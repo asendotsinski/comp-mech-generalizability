{
 "cells": [
  {
   "cell_type": "code",
   "execution_count": 8,
   "metadata": {},
   "outputs": [
    {
     "name": "stdout",
     "output_type": "stream",
     "text": [
      "The autoreload extension is already loaded. To reload it, use:\n",
      "  %reload_ext autoreload\n"
     ]
    }
   ],
   "source": [
    "import sys\n",
    "import os\n",
    "sys.path.append('..')\n",
    "sys.path.append('../src')\n",
    "sys.path.append('../data')\n",
    "import torch\n",
    "\n",
    "%load_ext autoreload\n",
    "%autoreload 2"
   ]
  },
  {
   "cell_type": "markdown",
   "metadata": {},
   "source": [
    "All the experiment return a pandas dataframe. \n",
    "\n",
    "    - mem: stand for the factual recall mechanism\n",
    "    - cp: stand for the counterfactual mechanism   "
   ]
  },
  {
   "cell_type": "markdown",
   "metadata": {},
   "source": [
    "## Load data and model"
   ]
  },
  {
   "cell_type": "code",
   "execution_count": 10,
   "metadata": {},
   "outputs": [
    {
     "name": "stdout",
     "output_type": "stream",
     "text": [
      "Loaded pretrained model gpt2 into HookedTransformer\n"
     ]
    },
    {
     "name": "stderr",
     "output_type": "stream",
     "text": [
      "Tokenizing and computing lengths: 100%|██████████| 15/15 [00:00<00:00, 307.40it/s]\n"
     ]
    }
   ],
   "source": [
    "from dataset import BaseDataset\n",
    "from model import ModelFactory\n",
    "model = ModelFactory.create(\"gpt2\", device=\"mps\")\n",
    "dataset = BaseDataset(\n",
    "    path= \"../data/full_data_sampled_gpt2_with_subjects.json\",\n",
    "    model=model,\n",
    "    experiment=\"copyVSfact\",\n",
    "    premise=\"Redefine\",\n",
    "    start=0,\n",
    "    end=15\n",
    ")"
   ]
  },
  {
   "cell_type": "markdown",
   "metadata": {},
   "source": [
    "## Logit Lens\n",
    "Compute the logit lens in the residual stream"
   ]
  },
  {
   "cell_type": "code",
   "execution_count": 4,
   "metadata": {},
   "outputs": [],
   "source": [
    "from experiment import LogitLens\n",
    "logit_lens = LogitLens(\n",
    "    dataset=dataset,\n",
    "    model=model,\n",
    "    batch_size=40,\n",
    "    experiment=\"copyVSfact\",\n",
    ")"
   ]
  },
  {
   "cell_type": "code",
   "execution_count": 5,
   "metadata": {},
   "outputs": [
    {
     "name": "stderr",
     "output_type": "stream",
     "text": [
      "Logit lens:: 100%|██████████| 5/5 [00:16<00:00,  3.39s/it]\n"
     ]
    },
    {
     "data": {
      "text/html": [
       "<div>\n",
       "<style scoped>\n",
       "    .dataframe tbody tr th:only-of-type {\n",
       "        vertical-align: middle;\n",
       "    }\n",
       "\n",
       "    .dataframe tbody tr th {\n",
       "        vertical-align: top;\n",
       "    }\n",
       "\n",
       "    .dataframe thead th {\n",
       "        text-align: right;\n",
       "    }\n",
       "</style>\n",
       "<table border=\"1\" class=\"dataframe\">\n",
       "  <thead>\n",
       "    <tr style=\"text-align: right;\">\n",
       "      <th></th>\n",
       "      <th>component</th>\n",
       "      <th>layer</th>\n",
       "      <th>position</th>\n",
       "      <th>mem</th>\n",
       "      <th>cp</th>\n",
       "      <th>diff</th>\n",
       "      <th>mem_perc</th>\n",
       "      <th>cp_perc</th>\n",
       "      <th>diff_perc</th>\n",
       "      <th>mem_std</th>\n",
       "      <th>cp_std</th>\n",
       "      <th>mem_idx</th>\n",
       "      <th>cp_idx</th>\n",
       "    </tr>\n",
       "  </thead>\n",
       "  <tbody>\n",
       "    <tr>\n",
       "      <th>0</th>\n",
       "      <td>resid_post</td>\n",
       "      <td>0</td>\n",
       "      <td>0</td>\n",
       "      <td>-0.221067</td>\n",
       "      <td>-0.416839</td>\n",
       "      <td>0.195772</td>\n",
       "      <td>-120.440071</td>\n",
       "      <td>-164.294479</td>\n",
       "      <td>-54.809231</td>\n",
       "      <td>0.552207</td>\n",
       "      <td>0.385051</td>\n",
       "      <td>None</td>\n",
       "      <td>None</td>\n",
       "    </tr>\n",
       "    <tr>\n",
       "      <th>1</th>\n",
       "      <td>resid_post</td>\n",
       "      <td>0</td>\n",
       "      <td>1</td>\n",
       "      <td>4.174799</td>\n",
       "      <td>1.038706</td>\n",
       "      <td>3.136094</td>\n",
       "      <td>286.005371</td>\n",
       "      <td>60.213051</td>\n",
       "      <td>623.917847</td>\n",
       "      <td>1.648587</td>\n",
       "      <td>1.051461</td>\n",
       "      <td>None</td>\n",
       "      <td>None</td>\n",
       "    </tr>\n",
       "    <tr>\n",
       "      <th>2</th>\n",
       "      <td>resid_post</td>\n",
       "      <td>0</td>\n",
       "      <td>2</td>\n",
       "      <td>0.665571</td>\n",
       "      <td>0.150635</td>\n",
       "      <td>0.514935</td>\n",
       "      <td>-38.460789</td>\n",
       "      <td>-76.765541</td>\n",
       "      <td>18.864695</td>\n",
       "      <td>0.737493</td>\n",
       "      <td>0.647751</td>\n",
       "      <td>None</td>\n",
       "      <td>None</td>\n",
       "    </tr>\n",
       "    <tr>\n",
       "      <th>3</th>\n",
       "      <td>resid_post</td>\n",
       "      <td>0</td>\n",
       "      <td>3</td>\n",
       "      <td>0.554917</td>\n",
       "      <td>0.128475</td>\n",
       "      <td>0.426441</td>\n",
       "      <td>-48.691956</td>\n",
       "      <td>-80.183578</td>\n",
       "      <td>-1.562744</td>\n",
       "      <td>0.851559</td>\n",
       "      <td>0.625169</td>\n",
       "      <td>None</td>\n",
       "      <td>None</td>\n",
       "    </tr>\n",
       "    <tr>\n",
       "      <th>4</th>\n",
       "      <td>resid_post</td>\n",
       "      <td>0</td>\n",
       "      <td>4</td>\n",
       "      <td>0.209353</td>\n",
       "      <td>0.024318</td>\n",
       "      <td>0.185036</td>\n",
       "      <td>-80.643013</td>\n",
       "      <td>-96.249153</td>\n",
       "      <td>-57.287453</td>\n",
       "      <td>0.262376</td>\n",
       "      <td>0.332149</td>\n",
       "      <td>None</td>\n",
       "      <td>None</td>\n",
       "    </tr>\n",
       "    <tr>\n",
       "      <th>...</th>\n",
       "      <td>...</td>\n",
       "      <td>...</td>\n",
       "      <td>...</td>\n",
       "      <td>...</td>\n",
       "      <td>...</td>\n",
       "      <td>...</td>\n",
       "      <td>...</td>\n",
       "      <td>...</td>\n",
       "      <td>...</td>\n",
       "      <td>...</td>\n",
       "      <td>...</td>\n",
       "      <td>...</td>\n",
       "      <td>...</td>\n",
       "    </tr>\n",
       "    <tr>\n",
       "      <th>163</th>\n",
       "      <td>resid_post</td>\n",
       "      <td>11</td>\n",
       "      <td>9</td>\n",
       "      <td>8.206142</td>\n",
       "      <td>5.814023</td>\n",
       "      <td>2.392119</td>\n",
       "      <td>19.579527</td>\n",
       "      <td>9.388631</td>\n",
       "      <td>54.581394</td>\n",
       "      <td>1.804289</td>\n",
       "      <td>1.956465</td>\n",
       "      <td>None</td>\n",
       "      <td>None</td>\n",
       "    </tr>\n",
       "    <tr>\n",
       "      <th>164</th>\n",
       "      <td>resid_post</td>\n",
       "      <td>11</td>\n",
       "      <td>10</td>\n",
       "      <td>3.649913</td>\n",
       "      <td>1.921111</td>\n",
       "      <td>1.728802</td>\n",
       "      <td>-46.813637</td>\n",
       "      <td>-63.855030</td>\n",
       "      <td>11.717087</td>\n",
       "      <td>3.328378</td>\n",
       "      <td>2.535936</td>\n",
       "      <td>None</td>\n",
       "      <td>None</td>\n",
       "    </tr>\n",
       "    <tr>\n",
       "      <th>165</th>\n",
       "      <td>resid_post</td>\n",
       "      <td>11</td>\n",
       "      <td>11</td>\n",
       "      <td>7.962111</td>\n",
       "      <td>5.874662</td>\n",
       "      <td>2.087448</td>\n",
       "      <td>16.023512</td>\n",
       "      <td>10.529538</td>\n",
       "      <td>34.893211</td>\n",
       "      <td>1.500016</td>\n",
       "      <td>1.428558</td>\n",
       "      <td>None</td>\n",
       "      <td>None</td>\n",
       "    </tr>\n",
       "    <tr>\n",
       "      <th>166</th>\n",
       "      <td>resid_post</td>\n",
       "      <td>11</td>\n",
       "      <td>12</td>\n",
       "      <td>9.162442</td>\n",
       "      <td>7.422668</td>\n",
       "      <td>1.739773</td>\n",
       "      <td>33.514683</td>\n",
       "      <td>39.654682</td>\n",
       "      <td>12.426073</td>\n",
       "      <td>2.791573</td>\n",
       "      <td>2.762402</td>\n",
       "      <td>None</td>\n",
       "      <td>None</td>\n",
       "    </tr>\n",
       "    <tr>\n",
       "      <th>167</th>\n",
       "      <td>resid_post</td>\n",
       "      <td>11</td>\n",
       "      <td>13</td>\n",
       "      <td>13.592021</td>\n",
       "      <td>15.932878</td>\n",
       "      <td>-2.340858</td>\n",
       "      <td>98.062302</td>\n",
       "      <td>199.771042</td>\n",
       "      <td>-251.268784</td>\n",
       "      <td>1.254310</td>\n",
       "      <td>1.900606</td>\n",
       "      <td>None</td>\n",
       "      <td>None</td>\n",
       "    </tr>\n",
       "  </tbody>\n",
       "</table>\n",
       "<p>168 rows × 13 columns</p>\n",
       "</div>"
      ],
      "text/plain": [
       "      component  layer  position        mem         cp      diff    mem_perc  \\\n",
       "0    resid_post      0         0  -0.221067  -0.416839  0.195772 -120.440071   \n",
       "1    resid_post      0         1   4.174799   1.038706  3.136094  286.005371   \n",
       "2    resid_post      0         2   0.665571   0.150635  0.514935  -38.460789   \n",
       "3    resid_post      0         3   0.554917   0.128475  0.426441  -48.691956   \n",
       "4    resid_post      0         4   0.209353   0.024318  0.185036  -80.643013   \n",
       "..          ...    ...       ...        ...        ...       ...         ...   \n",
       "163  resid_post     11         9   8.206142   5.814023  2.392119   19.579527   \n",
       "164  resid_post     11        10   3.649913   1.921111  1.728802  -46.813637   \n",
       "165  resid_post     11        11   7.962111   5.874662  2.087448   16.023512   \n",
       "166  resid_post     11        12   9.162442   7.422668  1.739773   33.514683   \n",
       "167  resid_post     11        13  13.592021  15.932878 -2.340858   98.062302   \n",
       "\n",
       "        cp_perc   diff_perc   mem_std    cp_std mem_idx cp_idx  \n",
       "0   -164.294479  -54.809231  0.552207  0.385051    None   None  \n",
       "1     60.213051  623.917847  1.648587  1.051461    None   None  \n",
       "2    -76.765541   18.864695  0.737493  0.647751    None   None  \n",
       "3    -80.183578   -1.562744  0.851559  0.625169    None   None  \n",
       "4    -96.249153  -57.287453  0.262376  0.332149    None   None  \n",
       "..          ...         ...       ...       ...     ...    ...  \n",
       "163    9.388631   54.581394  1.804289  1.956465    None   None  \n",
       "164  -63.855030   11.717087  3.328378  2.535936    None   None  \n",
       "165   10.529538   34.893211  1.500016  1.428558    None   None  \n",
       "166   39.654682   12.426073  2.791573  2.762402    None   None  \n",
       "167  199.771042 -251.268784  1.254310  1.900606    None   None  \n",
       "\n",
       "[168 rows x 13 columns]"
      ]
     },
     "execution_count": 5,
     "metadata": {},
     "output_type": "execute_result"
    }
   ],
   "source": [
    "logit_lens.run(\n",
    "    component=\"resid_post\", # \"resid_pre\" (pre attention) or \"resid_mid\" (post attention and pre mlp) or \"resid_post\" (post mlp)\n",
    "    normalize_logit=\"none\"\n",
    ")"
   ]
  },
  {
   "cell_type": "markdown",
   "metadata": {},
   "source": [
    "## Logit Attribution"
   ]
  },
  {
   "cell_type": "markdown",
   "metadata": {},
   "source": [
    "Compute the logit lens for the output of attention blocks, MLP blocks and attention heads"
   ]
  },
  {
   "cell_type": "code",
   "execution_count": null,
   "metadata": {},
   "outputs": [],
   "source": [
    "from experiment import LogitAttribution\n",
    "logit_attribution = LogitAttribution(\n",
    "    dataset=dataset,\n",
    "    model=model,\n",
    "    batch_size=40,\n",
    "    experiment=\"copyVSfact\",\n",
    ")"
   ]
  },
  {
   "cell_type": "code",
   "execution_count": null,
   "metadata": {},
   "outputs": [],
   "source": [
    "logit_attribution.run()"
   ]
  },
  {
   "cell_type": "markdown",
   "metadata": {},
   "source": [
    "## Extract Pattern heads"
   ]
  },
  {
   "cell_type": "code",
   "execution_count": null,
   "metadata": {},
   "outputs": [],
   "source": [
    "from experiment import HeadPattern\n",
    "\n",
    "head_pattern = HeadPattern(\n",
    "    dataset=dataset,\n",
    "    model=model,\n",
    "    batch_size=40,\n",
    "    experiment=\"copyVSfact\",\n",
    ")"
   ]
  },
  {
   "cell_type": "code",
   "execution_count": null,
   "metadata": {},
   "outputs": [],
   "source": [
    "head_pattern.run()"
   ]
  }
 ],
 "metadata": {
  "kernelspec": {
   "display_name": "fact",
   "language": "python",
   "name": "python3"
  },
  "language_info": {
   "codemirror_mode": {
    "name": "ipython",
    "version": 3
   },
   "file_extension": ".py",
   "mimetype": "text/x-python",
   "name": "python",
   "nbconvert_exporter": "python",
   "pygments_lexer": "ipython3",
   "version": "3.12.7"
  }
 },
 "nbformat": 4,
 "nbformat_minor": 2
}
