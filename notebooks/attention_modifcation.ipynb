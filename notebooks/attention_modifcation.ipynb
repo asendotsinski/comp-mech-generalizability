{
 "cells": [
  {
   "cell_type": "code",
   "execution_count": 1,
   "metadata": {},
   "outputs": [],
   "source": [
    "import sys\n",
    "import os\n",
    "sys.path.append('..')\n",
    "sys.path.append('../src')\n",
    "sys.path.append('../data')\n",
    "# from Src.config import hf_access_token, hf_model_cache_dir # noqa: E402\n",
    "# os.environ[\"HF_HOME\"] = hf_model_cache_dir \n",
    "# import torch\n",
    "\n",
    "%load_ext autoreload\n",
    "%autoreload 2"
   ]
  },
  {
   "cell_type": "markdown",
   "metadata": {},
   "source": [
    "Load the model \"gpt2\" or \"EleutherAI/pythia-6.9b\""
   ]
  },
  {
   "cell_type": "code",
   "execution_count": 3,
   "metadata": {},
   "outputs": [
    {
     "name": "stderr",
     "output_type": "stream",
     "text": [
      "/opt/homebrew/anaconda3/envs/fact/lib/python3.12/site-packages/tqdm/auto.py:21: TqdmWarning: IProgress not found. Please update jupyter and ipywidgets. See https://ipywidgets.readthedocs.io/en/stable/user_install.html\n",
      "  from .autonotebook import tqdm as notebook_tqdm\n"
     ]
    },
    {
     "name": "stdout",
     "output_type": "stream",
     "text": [
      "\u001b[31m Cuda is not available, switching to cpu \u001b[0;0m\n",
      "Loaded pretrained model gpt2 into HookedTransformer\n"
     ]
    }
   ],
   "source": [
    "from model import ModelFactory\n",
    "model = ModelFactory.create(\"gpt2\")"
   ]
  },
  {
   "cell_type": "markdown",
   "metadata": {},
   "source": [
    "Then load the dataset (Warning, select the right dataset for the model you loaded). Load also the ablator class\n"
   ]
  },
  {
   "cell_type": "code",
   "execution_count": 4,
   "metadata": {},
   "outputs": [
    {
     "name": "stderr",
     "output_type": "stream",
     "text": [
      "huggingface/tokenizers: The current process just got forked, after parallelism has already been used. Disabling parallelism to avoid deadlocks...\n",
      "To disable this warning, you can either:\n",
      "\t- Avoid using `tokenizers` before the fork if possible\n",
      "\t- Explicitly set the environment variable TOKENIZERS_PARALLELISM=(true | false)\n"
     ]
    },
    {
     "name": "stdout",
     "output_type": "stream",
     "text": [
      "\u001b[91m No subject found in the dataset \u001b[0m, proceeding with no subject data\n"
     ]
    },
    {
     "name": "stderr",
     "output_type": "stream",
     "text": [
      "Tokenizing and computing lengths:   0%|          | 0/10000 [00:00<?, ?it/s]huggingface/tokenizers: The current process just got forked, after parallelism has already been used. Disabling parallelism to avoid deadlocks...\n",
      "To disable this warning, you can either:\n",
      "\t- Avoid using `tokenizers` before the fork if possible\n",
      "\t- Explicitly set the environment variable TOKENIZERS_PARALLELISM=(true | false)\n",
      "Tokenizing and computing lengths: 100%|██████████| 10000/10000 [00:14<00:00, 697.72it/s]\n"
     ]
    }
   ],
   "source": [
    "from dataset import BaseDataset\n",
    "from experiment import Ablator\n",
    "\n",
    "\n",
    "dataset = BaseDataset(path = \"../data/full_data_sampled_gpt2.json\",\n",
    "                      model = model,\n",
    "                      experiment=\"copyVSfact\",\n",
    "                      no_subject=True)\n",
    "ablator = Ablator(model=model, dataset=dataset, experiment=\"copyVSfact\", batch_size=20)"
   ]
  },
  {
   "cell_type": "markdown",
   "metadata": {},
   "source": [
    "Set the heads that you want to modify, the value to multiply the heads and the token position that you want to modify (all, or attribute):"
   ]
  },
  {
   "cell_type": "code",
   "execution_count": 7,
   "metadata": {},
   "outputs": [],
   "source": [
    "ablator.set_heads(heads=[(10,7), (11,10)], value=5, position=\"attribute\")\n"
   ]
  },
  {
   "cell_type": "markdown",
   "metadata": {},
   "source": [
    "Run the attention modification:\n",
    "\n",
    "\n",
    "- mem --> logit of the factual token\n",
    "\n",
    "\n",
    "- cp --> logit of the counterfactual token\n",
    "\n",
    "- mem win --> number of factual predictions\n",
    "\n",
    "- cp win --> number of counterfactual predictions"
   ]
  },
  {
   "cell_type": "code",
   "execution_count": 8,
   "metadata": {},
   "outputs": [
    {
     "name": "stderr",
     "output_type": "stream",
     "text": [
      "Ablating: 100%|██████████| 24/24 [01:11<00:00,  2.96s/it]\n"
     ]
    },
    {
     "data": {
      "text/html": [
       "<div>\n",
       "<style scoped>\n",
       "    .dataframe tbody tr th:only-of-type {\n",
       "        vertical-align: middle;\n",
       "    }\n",
       "\n",
       "    .dataframe tbody tr th {\n",
       "        vertical-align: top;\n",
       "    }\n",
       "\n",
       "    .dataframe thead th {\n",
       "        text-align: right;\n",
       "    }\n",
       "</style>\n",
       "<table border=\"1\" class=\"dataframe\">\n",
       "  <thead>\n",
       "    <tr style=\"text-align: right;\">\n",
       "      <th></th>\n",
       "      <th>mem</th>\n",
       "      <th>cp</th>\n",
       "      <th>diff</th>\n",
       "      <th>mem_std</th>\n",
       "      <th>cp_std</th>\n",
       "      <th>diff_std</th>\n",
       "      <th>mem_win</th>\n",
       "      <th>cp_win</th>\n",
       "    </tr>\n",
       "  </thead>\n",
       "  <tbody>\n",
       "    <tr>\n",
       "      <th>0</th>\n",
       "      <td>13.857364</td>\n",
       "      <td>14.130378</td>\n",
       "      <td>-0.273015</td>\n",
       "      <td>1.666047</td>\n",
       "      <td>2.702236</td>\n",
       "      <td>2.729101</td>\n",
       "      <td>5014.0</td>\n",
       "      <td>4614.0</td>\n",
       "    </tr>\n",
       "  </tbody>\n",
       "</table>\n",
       "</div>"
      ],
      "text/plain": [
       "         mem         cp      diff   mem_std    cp_std  diff_std  mem_win  \\\n",
       "0  13.857364  14.130378 -0.273015  1.666047  2.702236  2.729101   5014.0   \n",
       "\n",
       "   cp_win  \n",
       "0  4614.0  "
      ]
     },
     "execution_count": 8,
     "metadata": {},
     "output_type": "execute_result"
    }
   ],
   "source": [
    "ablator.run()"
   ]
  },
  {
   "cell_type": "code",
   "execution_count": 8,
   "metadata": {},
   "outputs": [
    {
     "name": "stderr",
     "output_type": "stream",
     "text": [
      "Ablating:   0%|          | 0/24 [00:00<?, ?it/s]"
     ]
    },
    {
     "name": "stderr",
     "output_type": "stream",
     "text": [
      "Ablating: 100%|██████████| 24/24 [00:35<00:00,  1.48s/it]\n",
      "Ablating: 100%|██████████| 24/24 [00:35<00:00,  1.46s/it]\n",
      "Ablating: 100%|██████████| 24/24 [00:34<00:00,  1.45s/it]\n",
      "Ablating: 100%|██████████| 24/24 [00:35<00:00,  1.47s/it]\n"
     ]
    }
   ],
   "source": [
    "# grid search for alpha/multiplier\n",
    "result = []\n",
    "for alpha in [2,5,10,100]:\n",
    "    ablator.set_heads(heads=[(10,7), (11,10)], value=alpha, position=\"attribute\")\n",
    "    result.append(ablator.run())"
   ]
  },
  {
   "cell_type": "code",
   "execution_count": 9,
   "metadata": {},
   "outputs": [
    {
     "data": {
      "text/plain": [
       "[         mem         cp      diff   mem_std    cp_std  diff_std  mem_win  \\\n",
       " 0  13.947168  15.336194 -1.389027  1.637497  2.689528  2.649626   3217.0   \n",
       " \n",
       "    cp_win  \n",
       " 0  6554.0  ,\n",
       "          mem         cp      diff   mem_std    cp_std  diff_std  mem_win  \\\n",
       " 0  13.857364  14.130377 -0.273015  1.666047  2.702235  2.729101   5014.0   \n",
       " \n",
       "    cp_win  \n",
       " 0  4614.0  ,\n",
       "          mem         cp      diff   mem_std    cp_std  diff_std  mem_win  \\\n",
       " 0  13.839895  13.989985 -0.150091  1.663305  2.688327  2.742588   5156.0   \n",
       " \n",
       "    cp_win  \n",
       " 0  4456.0  ,\n",
       "          mem         cp      diff   mem_std    cp_std  diff_std  mem_win  \\\n",
       " 0  13.831625  13.926047 -0.094424  1.660842  2.670364  2.741903   5229.0   \n",
       " \n",
       "    cp_win  \n",
       " 0  4374.0  ]"
      ]
     },
     "execution_count": 9,
     "metadata": {},
     "output_type": "execute_result"
    }
   ],
   "source": [
    "result"
   ]
  },
  {
   "cell_type": "markdown",
   "metadata": {},
   "source": [
    "## Use your own modification"
   ]
  },
  {
   "cell_type": "markdown",
   "metadata": {},
   "source": [
    "You can pass to the model your own modification function. You can pass a list of hook (string, function) to the model using set_hooks method. The hooks should be consistent with the hook of the transformer lens library (https://neelnanda-io.github.io/TransformerLens/index.html)"
   ]
  },
  {
   "cell_type": "code",
   "execution_count": null,
   "metadata": {},
   "outputs": [],
   "source": []
  }
 ],
 "metadata": {
  "kernelspec": {
   "display_name": "fact",
   "language": "python",
   "name": "python3"
  },
  "language_info": {
   "codemirror_mode": {
    "name": "ipython",
    "version": 3
   },
   "file_extension": ".py",
   "mimetype": "text/x-python",
   "name": "python",
   "nbconvert_exporter": "python",
   "pygments_lexer": "ipython3",
   "version": "3.12.7"
  }
 },
 "nbformat": 4,
 "nbformat_minor": 2
}
