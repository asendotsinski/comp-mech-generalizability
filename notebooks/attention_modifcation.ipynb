{
 "cells": [
  {
   "cell_type": "code",
   "execution_count": 25,
   "metadata": {},
   "outputs": [
    {
     "name": "stdout",
     "output_type": "stream",
     "text": [
      "The autoreload extension is already loaded. To reload it, use:\n",
      "  %reload_ext autoreload\n"
     ]
    }
   ],
   "source": [
    "import sys\n",
    "import os\n",
    "sys.path.append('..')\n",
    "sys.path.append('../src')\n",
    "sys.path.append('../data')\n",
    "# from Src.config import hf_access_token, hf_model_cache_dir # noqa: E402\n",
    "# os.environ[\"HF_HOME\"] = hf_/model_cache_dir \n",
    "# import torch\n",
    "\n",
    "%load_ext autoreload\n",
    "%autoreload 2"
   ]
  },
  {
   "cell_type": "markdown",
   "metadata": {},
   "source": [
    "Load the model \"gpt2\" or \"EleutherAI/pythia-6.9b\""
   ]
  },
  {
   "cell_type": "code",
   "execution_count": 26,
   "metadata": {},
   "outputs": [
    {
     "name": "stdout",
     "output_type": "stream",
     "text": [
      "\u001b[31m Cuda is not available, switching to cpu \u001b[0;0m\n",
      "Loaded pretrained model gpt2 into HookedTransformer\n"
     ]
    }
   ],
   "source": [
    "from model import ModelFactory\n",
    "model = ModelFactory.create(\"gpt2\")"
   ]
  },
  {
   "cell_type": "markdown",
   "metadata": {},
   "source": [
    "Then load the dataset (Warning, select the right dataset for the model you loaded). Load also the ablator class\n"
   ]
  },
  {
   "cell_type": "code",
   "execution_count": 4,
   "metadata": {},
   "outputs": [
    {
     "name": "stderr",
     "output_type": "stream",
     "text": [
      "huggingface/tokenizers: The current process just got forked, after parallelism has already been used. Disabling parallelism to avoid deadlocks...\n",
      "To disable this warning, you can either:\n",
      "\t- Avoid using `tokenizers` before the fork if possible\n",
      "\t- Explicitly set the environment variable TOKENIZERS_PARALLELISM=(true | false)\n"
     ]
    },
    {
     "name": "stdout",
     "output_type": "stream",
     "text": [
      "\u001b[91m No subject found in the dataset \u001b[0m, proceeding with no subject data\n"
     ]
    },
    {
     "name": "stderr",
     "output_type": "stream",
     "text": [
      "Tokenizing and computing lengths:   0%|          | 0/10000 [00:00<?, ?it/s]huggingface/tokenizers: The current process just got forked, after parallelism has already been used. Disabling parallelism to avoid deadlocks...\n",
      "To disable this warning, you can either:\n",
      "\t- Avoid using `tokenizers` before the fork if possible\n",
      "\t- Explicitly set the environment variable TOKENIZERS_PARALLELISM=(true | false)\n",
      "Tokenizing and computing lengths: 100%|██████████| 10000/10000 [00:14<00:00, 697.72it/s]\n"
     ]
    }
   ],
   "source": [
    "from dataset import BaseDataset\n",
    "from experiment import Ablator\n",
    "\n",
    "\n",
    "dataset = BaseDataset(path = \"../data/full_data_sampled_gpt2.json\",\n",
    "                      model = model,\n",
    "                      experiment=\"copyVSfact\",\n",
    "                      no_subject=True)\n",
    "ablator = Ablator(model=model, dataset=dataset, experiment=\"copyVSfact\", batch_size=20)"
   ]
  },
  {
   "cell_type": "markdown",
   "metadata": {},
   "source": [
    "Set the heads that you want to modify, the value to multiply the heads and the token position that you want to modify (all, or attribute):"
   ]
  },
  {
   "cell_type": "code",
   "execution_count": 7,
   "metadata": {},
   "outputs": [],
   "source": [
    "ablator.set_heads(heads=[(10,7), (11,10)], value=5, position=\"attribute\")\n"
   ]
  },
  {
   "cell_type": "markdown",
   "metadata": {},
   "source": [
    "Run the attention modification:\n",
    "\n",
    "\n",
    "- mem --> logit of the factual token\n",
    "\n",
    "\n",
    "- cp --> logit of the counterfactual token\n",
    "\n",
    "- mem win --> number of factual predictions\n",
    "\n",
    "- cp win --> number of counterfactual predictions"
   ]
  },
  {
   "cell_type": "code",
   "execution_count": 8,
   "metadata": {},
   "outputs": [
    {
     "name": "stderr",
     "output_type": "stream",
     "text": [
      "Ablating: 100%|██████████| 24/24 [01:11<00:00,  2.96s/it]\n"
     ]
    },
    {
     "data": {
      "text/html": [
       "<div>\n",
       "<style scoped>\n",
       "    .dataframe tbody tr th:only-of-type {\n",
       "        vertical-align: middle;\n",
       "    }\n",
       "\n",
       "    .dataframe tbody tr th {\n",
       "        vertical-align: top;\n",
       "    }\n",
       "\n",
       "    .dataframe thead th {\n",
       "        text-align: right;\n",
       "    }\n",
       "</style>\n",
       "<table border=\"1\" class=\"dataframe\">\n",
       "  <thead>\n",
       "    <tr style=\"text-align: right;\">\n",
       "      <th></th>\n",
       "      <th>mem</th>\n",
       "      <th>cp</th>\n",
       "      <th>diff</th>\n",
       "      <th>mem_std</th>\n",
       "      <th>cp_std</th>\n",
       "      <th>diff_std</th>\n",
       "      <th>mem_win</th>\n",
       "      <th>cp_win</th>\n",
       "    </tr>\n",
       "  </thead>\n",
       "  <tbody>\n",
       "    <tr>\n",
       "      <th>0</th>\n",
       "      <td>13.857364</td>\n",
       "      <td>14.130378</td>\n",
       "      <td>-0.273015</td>\n",
       "      <td>1.666047</td>\n",
       "      <td>2.702236</td>\n",
       "      <td>2.729101</td>\n",
       "      <td>5014.0</td>\n",
       "      <td>4614.0</td>\n",
       "    </tr>\n",
       "  </tbody>\n",
       "</table>\n",
       "</div>"
      ],
      "text/plain": [
       "         mem         cp      diff   mem_std    cp_std  diff_std  mem_win  \\\n",
       "0  13.857364  14.130378 -0.273015  1.666047  2.702236  2.729101   5014.0   \n",
       "\n",
       "   cp_win  \n",
       "0  4614.0  "
      ]
     },
     "execution_count": 8,
     "metadata": {},
     "output_type": "execute_result"
    }
   ],
   "source": [
    "ablator.run()"
   ]
  },
  {
   "cell_type": "code",
   "execution_count": 8,
   "metadata": {},
   "outputs": [
    {
     "name": "stderr",
     "output_type": "stream",
     "text": [
      "Ablating:   0%|          | 0/24 [00:00<?, ?it/s]"
     ]
    },
    {
     "name": "stderr",
     "output_type": "stream",
     "text": [
      "Ablating: 100%|██████████| 24/24 [00:35<00:00,  1.48s/it]\n",
      "Ablating: 100%|██████████| 24/24 [00:35<00:00,  1.46s/it]\n",
      "Ablating: 100%|██████████| 24/24 [00:34<00:00,  1.45s/it]\n",
      "Ablating: 100%|██████████| 24/24 [00:35<00:00,  1.47s/it]\n"
     ]
    }
   ],
   "source": [
    "# grid search for alpha/multiplier\n",
    "result = []\n",
    "for alpha in [2,5,10,100]:\n",
    "    ablator.set_heads(heads=[(10,7), (11,10)], value=alpha, position=\"attribute\")\n",
    "    result.append(ablator.run())"
   ]
  },
  {
   "cell_type": "code",
   "execution_count": 9,
   "metadata": {},
   "outputs": [
    {
     "data": {
      "text/plain": [
       "[         mem         cp      diff   mem_std    cp_std  diff_std  mem_win  \\\n",
       " 0  13.947168  15.336194 -1.389027  1.637497  2.689528  2.649626   3217.0   \n",
       " \n",
       "    cp_win  \n",
       " 0  6554.0  ,\n",
       "          mem         cp      diff   mem_std    cp_std  diff_std  mem_win  \\\n",
       " 0  13.857364  14.130377 -0.273015  1.666047  2.702235  2.729101   5014.0   \n",
       " \n",
       "    cp_win  \n",
       " 0  4614.0  ,\n",
       "          mem         cp      diff   mem_std    cp_std  diff_std  mem_win  \\\n",
       " 0  13.839895  13.989985 -0.150091  1.663305  2.688327  2.742588   5156.0   \n",
       " \n",
       "    cp_win  \n",
       " 0  4456.0  ,\n",
       "          mem         cp      diff   mem_std    cp_std  diff_std  mem_win  \\\n",
       " 0  13.831625  13.926047 -0.094424  1.660842  2.670364  2.741903   5229.0   \n",
       " \n",
       "    cp_win  \n",
       " 0  4374.0  ]"
      ]
     },
     "execution_count": 9,
     "metadata": {},
     "output_type": "execute_result"
    }
   ],
   "source": [
    "result"
   ]
  },
  {
   "cell_type": "markdown",
   "metadata": {},
   "source": [
    "## Use your own modification"
   ]
  },
  {
   "cell_type": "markdown",
   "metadata": {},
   "source": [
    "You can pass to the model your own modification function. You can pass a list of hook (string, function) to the model using set_hooks method. The hooks should be consistent with the hook of the transformer lens library (https://neelnanda-io.github.io/TransformerLens/index.html)"
   ]
  },
  {
   "cell_type": "code",
   "execution_count": null,
   "metadata": {},
   "outputs": [],
   "source": [
    "from dataset import BaseDataset\n",
    "from experiment import Ablator\n",
    "\n",
    "\n",
    "dataset = BaseDataset(path = \"../data/cft_og_combined_data_sampled_gpt2_with_questions.json\",\n",
    "                      model = model,\n",
    "                      experiment=\"copyVSfactQnA\",\n",
    "                      prompt_type=\"qna\",\n",
    "                      no_subject=True)\n",
    "ablator = Ablator(model=model, dataset=dataset, experiment=\"copyVSfactQnA\", batch_size=20)"
   ]
  },
  {
   "cell_type": "code",
   "execution_count": 29,
   "metadata": {},
   "outputs": [
    {
     "name": "stderr",
     "output_type": "stream",
     "text": [
      "Ablating: 100%|██████████| 29/29 [01:22<00:00,  2.84s/it]\n"
     ]
    },
    {
     "data": {
      "text/html": [
       "<div>\n",
       "<style scoped>\n",
       "    .dataframe tbody tr th:only-of-type {\n",
       "        vertical-align: middle;\n",
       "    }\n",
       "\n",
       "    .dataframe tbody tr th {\n",
       "        vertical-align: top;\n",
       "    }\n",
       "\n",
       "    .dataframe thead th {\n",
       "        text-align: right;\n",
       "    }\n",
       "</style>\n",
       "<table border=\"1\" class=\"dataframe\">\n",
       "  <thead>\n",
       "    <tr style=\"text-align: right;\">\n",
       "      <th></th>\n",
       "      <th>mem</th>\n",
       "      <th>cp</th>\n",
       "      <th>diff</th>\n",
       "      <th>mem_std</th>\n",
       "      <th>cp_std</th>\n",
       "      <th>diff_std</th>\n",
       "      <th>mem_win</th>\n",
       "      <th>cp_win</th>\n",
       "    </tr>\n",
       "  </thead>\n",
       "  <tbody>\n",
       "    <tr>\n",
       "      <th>0</th>\n",
       "      <td>12.591045</td>\n",
       "      <td>13.703269</td>\n",
       "      <td>-1.112226</td>\n",
       "      <td>2.140498</td>\n",
       "      <td>1.049417</td>\n",
       "      <td>2.481231</td>\n",
       "      <td>3702.0</td>\n",
       "      <td>6359.0</td>\n",
       "    </tr>\n",
       "  </tbody>\n",
       "</table>\n",
       "</div>"
      ],
      "text/plain": [
       "         mem         cp      diff   mem_std    cp_std  diff_std  mem_win  \\\n",
       "0  12.591045  13.703269 -1.112226  2.140498  1.049417  2.481231   3702.0   \n",
       "\n",
       "   cp_win  \n",
       "0  6359.0  "
      ]
     },
     "execution_count": 29,
     "metadata": {},
     "output_type": "execute_result"
    }
   ],
   "source": [
    "ablator.set_heads(heads=[(11,3)], value=5, position=\"attribute\")\n",
    "result = ablator.run()\n",
    "result"
   ]
  },
  {
   "cell_type": "code",
   "execution_count": 30,
   "metadata": {},
   "outputs": [
    {
     "name": "stderr",
     "output_type": "stream",
     "text": [
      "Ablating: 100%|██████████| 29/29 [02:49<00:00,  5.84s/it]\n"
     ]
    },
    {
     "data": {
      "text/html": [
       "<div>\n",
       "<style scoped>\n",
       "    .dataframe tbody tr th:only-of-type {\n",
       "        vertical-align: middle;\n",
       "    }\n",
       "\n",
       "    .dataframe tbody tr th {\n",
       "        vertical-align: top;\n",
       "    }\n",
       "\n",
       "    .dataframe thead th {\n",
       "        text-align: right;\n",
       "    }\n",
       "</style>\n",
       "<table border=\"1\" class=\"dataframe\">\n",
       "  <thead>\n",
       "    <tr style=\"text-align: right;\">\n",
       "      <th></th>\n",
       "      <th>mem</th>\n",
       "      <th>cp</th>\n",
       "      <th>diff</th>\n",
       "      <th>mem_std</th>\n",
       "      <th>cp_std</th>\n",
       "      <th>diff_std</th>\n",
       "      <th>mem_win</th>\n",
       "      <th>cp_win</th>\n",
       "    </tr>\n",
       "  </thead>\n",
       "  <tbody>\n",
       "    <tr>\n",
       "      <th>0</th>\n",
       "      <td>12.800153</td>\n",
       "      <td>12.35463</td>\n",
       "      <td>0.445524</td>\n",
       "      <td>2.290849</td>\n",
       "      <td>1.292336</td>\n",
       "      <td>2.723206</td>\n",
       "      <td>5929.0</td>\n",
       "      <td>1916.0</td>\n",
       "    </tr>\n",
       "  </tbody>\n",
       "</table>\n",
       "</div>"
      ],
      "text/plain": [
       "         mem        cp      diff   mem_std    cp_std  diff_std  mem_win  \\\n",
       "0  12.800153  12.35463  0.445524  2.290849  1.292336  2.723206   5929.0   \n",
       "\n",
       "   cp_win  \n",
       "0  1916.0  "
      ]
     },
     "execution_count": 30,
     "metadata": {},
     "output_type": "execute_result"
    }
   ],
   "source": [
    "ablator.set_heads(heads=[(10,7)], value=5, position=\"attribute\")\n",
    "result = ablator.run()\n",
    "result"
   ]
  },
  {
   "cell_type": "code",
   "execution_count": 44,
   "metadata": {},
   "outputs": [
    {
     "name": "stderr",
     "output_type": "stream",
     "text": [
      "Ablating: 100%|██████████| 29/29 [01:52<00:00,  3.87s/it]\n"
     ]
    },
    {
     "data": {
      "text/html": [
       "<div>\n",
       "<style scoped>\n",
       "    .dataframe tbody tr th:only-of-type {\n",
       "        vertical-align: middle;\n",
       "    }\n",
       "\n",
       "    .dataframe tbody tr th {\n",
       "        vertical-align: top;\n",
       "    }\n",
       "\n",
       "    .dataframe thead th {\n",
       "        text-align: right;\n",
       "    }\n",
       "</style>\n",
       "<table border=\"1\" class=\"dataframe\">\n",
       "  <thead>\n",
       "    <tr style=\"text-align: right;\">\n",
       "      <th></th>\n",
       "      <th>mem</th>\n",
       "      <th>cp</th>\n",
       "      <th>diff</th>\n",
       "      <th>mem_std</th>\n",
       "      <th>cp_std</th>\n",
       "      <th>diff_std</th>\n",
       "      <th>mem_win</th>\n",
       "      <th>cp_win</th>\n",
       "    </tr>\n",
       "  </thead>\n",
       "  <tbody>\n",
       "    <tr>\n",
       "      <th>0</th>\n",
       "      <td>12.68951</td>\n",
       "      <td>13.73616</td>\n",
       "      <td>-1.04665</td>\n",
       "      <td>2.189614</td>\n",
       "      <td>1.018348</td>\n",
       "      <td>2.490377</td>\n",
       "      <td>3886.0</td>\n",
       "      <td>6246.0</td>\n",
       "    </tr>\n",
       "  </tbody>\n",
       "</table>\n",
       "</div>"
      ],
      "text/plain": [
       "        mem        cp     diff   mem_std    cp_std  diff_std  mem_win  cp_win\n",
       "0  12.68951  13.73616 -1.04665  2.189614  1.018348  2.490377   3886.0  6246.0"
      ]
     },
     "execution_count": 44,
     "metadata": {},
     "output_type": "execute_result"
    }
   ],
   "source": [
    "ablator.set_heads(heads=[(10,7)], value=5, position=\"interrogative\")\n",
    "result = ablator.run()\n",
    "result"
   ]
  },
  {
   "cell_type": "code",
   "execution_count": 48,
   "metadata": {},
   "outputs": [
    {
     "name": "stderr",
     "output_type": "stream",
     "text": [
      "Ablating: 100%|██████████| 29/29 [03:47<00:00,  7.84s/it]\n"
     ]
    },
    {
     "data": {
      "text/html": [
       "<div>\n",
       "<style scoped>\n",
       "    .dataframe tbody tr th:only-of-type {\n",
       "        vertical-align: middle;\n",
       "    }\n",
       "\n",
       "    .dataframe tbody tr th {\n",
       "        vertical-align: top;\n",
       "    }\n",
       "\n",
       "    .dataframe thead th {\n",
       "        text-align: right;\n",
       "    }\n",
       "</style>\n",
       "<table border=\"1\" class=\"dataframe\">\n",
       "  <thead>\n",
       "    <tr style=\"text-align: right;\">\n",
       "      <th></th>\n",
       "      <th>mem</th>\n",
       "      <th>cp</th>\n",
       "      <th>diff</th>\n",
       "      <th>mem_std</th>\n",
       "      <th>cp_std</th>\n",
       "      <th>diff_std</th>\n",
       "      <th>mem_win</th>\n",
       "      <th>cp_win</th>\n",
       "    </tr>\n",
       "  </thead>\n",
       "  <tbody>\n",
       "    <tr>\n",
       "      <th>0</th>\n",
       "      <td>12.606985</td>\n",
       "      <td>13.596092</td>\n",
       "      <td>-0.989104</td>\n",
       "      <td>2.143174</td>\n",
       "      <td>1.017077</td>\n",
       "      <td>2.453731</td>\n",
       "      <td>3980.0</td>\n",
       "      <td>6184.0</td>\n",
       "    </tr>\n",
       "  </tbody>\n",
       "</table>\n",
       "</div>"
      ],
      "text/plain": [
       "         mem         cp      diff   mem_std    cp_std  diff_std  mem_win  \\\n",
       "0  12.606985  13.596092 -0.989104  2.143174  1.017077  2.453731   3980.0   \n",
       "\n",
       "   cp_win  \n",
       "0  6184.0  "
      ]
     },
     "execution_count": 48,
     "metadata": {},
     "output_type": "execute_result"
    }
   ],
   "source": [
    "ablator.set_heads(heads=[(11,3)], value=5, position=\"interrogative\")\n",
    "result = ablator.run()\n",
    "result"
   ]
  },
  {
   "cell_type": "code",
   "execution_count": 31,
   "metadata": {},
   "outputs": [
    {
     "data": {
      "text/plain": [
       "{'base_prompt': 'Toyota Camry XV30 is a product of',\n",
       " 'template': '{}: Toyota Camry XV30 is a product of{}. Toyota Camry XV30 is a product of',\n",
       " 'target_true': ' Toyota',\n",
       " 'target_new': ' Chrysler',\n",
       " 'prompt': 'Redefine: Toyota Camry XV30 is a product of Chrysler. What company is the Toyota Camry XV30 a product of? Answer:',\n",
       " 'subject': 'Toyota Camry XV30',\n",
       " 'question': 'What company is the Toyota Camry XV30 a product of?',\n",
       " 'idx': 'og_0',\n",
       " 'tokenized_prompt': tensor([ 7738,   891,   500,    25, 20182,  7298,   563, 29922,  1270,   318,\n",
       "           257,  1720,   286, 36477,    13,  1867,  1664,   318,   262, 20182,\n",
       "          7298,   563, 29922,  1270,   257,  1720,   286,    30, 23998,    25]),\n",
       " 'target_new_token': tensor([36477]),\n",
       " 'target_true_token': tensor([20182]),\n",
       " 'targets': tensor([20182, 36477]),\n",
       " '1_subj_pos': -1,\n",
       " '2_subj_pos': -1,\n",
       " 'subj_len': -1,\n",
       " 'obj_pos': 13,\n",
       " 'length': 30}"
      ]
     },
     "execution_count": 31,
     "metadata": {},
     "output_type": "execute_result"
    }
   ],
   "source": [
    "dataset.full_data[0]"
   ]
  },
  {
   "cell_type": "code",
   "execution_count": 42,
   "metadata": {},
   "outputs": [
    {
     "data": {
      "text/plain": [
       "' What'"
      ]
     },
     "execution_count": 42,
     "metadata": {},
     "output_type": "execute_result"
    }
   ],
   "source": [
    "obj_pos = 13\n",
    "tokenizer.decode(dataset.full_data[0][\"tokenized_prompt\"][obj_pos+2])"
   ]
  },
  {
   "cell_type": "code",
   "execution_count": 47,
   "metadata": {},
   "outputs": [
    {
     "data": {
      "text/plain": [
       "' Answer'"
      ]
     },
     "execution_count": 47,
     "metadata": {},
     "output_type": "execute_result"
    }
   ],
   "source": [
    "tokenizer.decode(23998)"
   ]
  },
  {
   "cell_type": "code",
   "execution_count": null,
   "metadata": {},
   "outputs": [],
   "source": []
  }
 ],
 "metadata": {
  "kernelspec": {
   "display_name": "fact",
   "language": "python",
   "name": "python3"
  },
  "language_info": {
   "codemirror_mode": {
    "name": "ipython",
    "version": 3
   },
   "file_extension": ".py",
   "mimetype": "text/x-python",
   "name": "python",
   "nbconvert_exporter": "python",
   "pygments_lexer": "ipython3",
   "version": "3.12.7"
  }
 },
 "nbformat": 4,
 "nbformat_minor": 2
}
